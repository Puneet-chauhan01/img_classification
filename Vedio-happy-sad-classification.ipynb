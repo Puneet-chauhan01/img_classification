{
 "cells": [
  {
   "cell_type": "code",
   "execution_count": 1,
   "id": "6ed357fa-4edc-48d5-832b-35b0e2ae0cd3",
   "metadata": {},
   "outputs": [],
   "source": [
    "import cv2\n",
    "import numpy as np\n",
    "from tensorflow.keras.models import load_model\n",
    "import os\n",
    "import matplotlib as plt\n",
    "import numpy as np\n",
    "import tensorflow as tf"
   ]
  },
  {
   "cell_type": "code",
   "execution_count": null,
   "id": "3f06276c-e00e-4a86-b0ac-81aeb06b9e7c",
   "metadata": {},
   "outputs": [
    {
     "name": "stdout",
     "output_type": "stream",
     "text": [
      "1/1 [==============================] - 0s 95ms/step\n",
      "[[0.19336943]]\n",
      "you are happy\n",
      "1/1 [==============================] - 0s 16ms/step\n",
      "[[0.03765035]]\n",
      "you are happy\n",
      "1/1 [==============================] - 0s 16ms/step\n",
      "[[0.03984219]]\n",
      "you are happy\n"
     ]
    }
   ],
   "source": [
    "cap = cv2.VideoCapture(0)\n",
    "\n",
    "new_model = load_model(os.path.join('models','happysadimagemodel2.h5'))\n",
    "currframe = 0\n",
    "mood = \"\"\n",
    "while True:\n",
    "    ret, frame = cap.read()\n",
    "    if currframe%30 == 0:\n",
    "        resize = cv2.resize(frame, (256,256))\n",
    "        yhat = new_model.predict(np.expand_dims(resize/255,0))\n",
    "        print(yhat)\n",
    "        if yhat>0.5:\n",
    "            print(\"you are sad\")\n",
    "        else :\n",
    "            print(\"you are happy\")\n",
    "    if yhat>0.5:\n",
    "        mood = \"sad\"\n",
    "    else :\n",
    "        mood = \"happy\"\n",
    "    cv2.putText(\n",
    "    frame, #numpy array on which text is written\n",
    "    mood, #text\n",
    "    (10,50), #position at which writing has to start\n",
    "    cv2.FONT_HERSHEY_SIMPLEX, #font family\n",
    "    3, #font size\n",
    "    (209, 80, 0, 255), #font color\n",
    "    3) #font stroke\n",
    "    currframe +=1\n",
    "    cv2.imshow('frame' , frame)    \n",
    "    if cv2.waitKey(1) & 0xFF == ord('q'):\n",
    "        break\n",
    "        \n",
    "\n",
    "cap.release()\n",
    "cv2.destroyAllWindows()"
   ]
  },
  {
   "cell_type": "code",
   "execution_count": null,
   "id": "3c426305-68af-4f3e-bb2a-3b84451d0e45",
   "metadata": {},
   "outputs": [],
   "source": []
  }
 ],
 "metadata": {
  "kernelspec": {
   "display_name": "imgcls",
   "language": "python",
   "name": "imgcls"
  },
  "language_info": {
   "codemirror_mode": {
    "name": "ipython",
    "version": 3
   },
   "file_extension": ".py",
   "mimetype": "text/x-python",
   "name": "python",
   "nbconvert_exporter": "python",
   "pygments_lexer": "ipython3",
   "version": "3.9.19"
  }
 },
 "nbformat": 4,
 "nbformat_minor": 5
}
